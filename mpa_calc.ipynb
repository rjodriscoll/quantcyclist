{
 "cells": [
  {
   "cell_type": "code",
   "execution_count": 5,
   "metadata": {},
   "outputs": [
    {
     "ename": "ModuleNotFoundError",
     "evalue": "No module named 'metrics'",
     "output_type": "error",
     "traceback": [
      "\u001b[0;31m---------------------------------------------------------------------------\u001b[0m",
      "\u001b[0;31mModuleNotFoundError\u001b[0m                       Traceback (most recent call last)",
      "\u001b[0;32m/tmp/ipykernel_116034/484258331.py\u001b[0m in \u001b[0;36m<module>\u001b[0;34m\u001b[0m\n\u001b[1;32m     67\u001b[0m \u001b[0;34m\u001b[0m\u001b[0m\n\u001b[1;32m     68\u001b[0m \u001b[0;34m\u001b[0m\u001b[0m\n\u001b[0;32m---> 69\u001b[0;31m \u001b[0;32mfrom\u001b[0m \u001b[0mmetrics\u001b[0m \u001b[0;32mimport\u001b[0m \u001b[0mpower\u001b[0m\u001b[0;34m\u001b[0m\u001b[0;34m\u001b[0m\u001b[0m\n\u001b[0m",
      "\u001b[0;31mModuleNotFoundError\u001b[0m: No module named 'metrics'"
     ]
    }
   ],
   "source": [
    "# def AWC(power : int, time: int) -> int:\n",
    "#     \"\"\"calculates the AWC for a given maximal effort\n",
    "\n",
    "#     Args:\n",
    "#         power (int): power in watts\n",
    "#         time (int): time in seconds\n",
    "#         CP (int): critical power in watts\n",
    "\n",
    "#     Returns:\n",
    "#         int: anaerobic work capacity, joules\n",
    "#     \"\"\"\n",
    "#     return round((power - CP) * time)\n",
    "\n",
    "# def tau(power : int, time: int) -> int:\n",
    "#     \"\"\"calculates the tau (i.e. AWC used) for a given maximal effort\n",
    "\n",
    "#     Args:\n",
    "#         power (int): power in watts (should be less than maximum for this interval)\n",
    "#         time (int): time in seconds\n",
    "#         CP (int): critical power in watts\n",
    "\n",
    "#     Returns:\n",
    "#         int: anaerobic work capacity, joules\n",
    "#     \"\"\"\n",
    "#     return round((power - CP) * time)\n",
    "\n",
    "\n",
    "# def get_wbal_recovery_balance(recov_dur: int, recovery_watts: int, awc: int, w_exp: int) -> float:\n",
    "#     \"\"\"calculates the recovered awc, based on recovery duration, watts, awc and w_exp\n",
    "\n",
    "#     Args:\n",
    "#         recov_dur (int): time spent recovering\n",
    "#         recovery_watts (int): average watts when recovering \n",
    "#         awc (int): anaerobic work capacity, joules \n",
    "#         w_exp (int): tau, the w' expended \n",
    "\n",
    "#     Returns:\n",
    "#         float: w balance in joules\n",
    "#     \"\"\"\n",
    "#     tw = 546*10**(-0.1 * (CP - recovery_watts)) + 316\n",
    "#     w_bal = awc - (w_exp) * 10 **(-(recov_dur/tw))\n",
    "#     return w_bal \n",
    "\n",
    "\n",
    "# def percentage_awc_remaining(w_bal: float, awc: int ) -> float:\n",
    "#     \"\"\"calculate the percentage of total awc used \n",
    "\n",
    "#     Args:\n",
    "#         w_bal (float): current w' balance\n",
    "#         awc (int): anaerobic work capacity\n",
    "\n",
    "#     Returns:\n",
    "#         int: Proportion remaining (0,1)\n",
    "#     \"\"\"\n",
    "#     return round( 1- (w_bal / awc), 2) \n",
    "\n",
    "# def anaerobic_cap_remaining_watts(perc_remain: float) -> float:\n",
    "#     \"\"\"Calculates anaerobic capacity remaining \n",
    "\n",
    "#     Args:\n",
    "#         perc_remain (float): proportion remaining (0,1)\n",
    "\n",
    "#     Returns:\n",
    "#         float: Remaining capacity in watts \n",
    "#     \"\"\"\n",
    "#     return round(PMAX -((PMAX - CP ) * perc_remain), 2)\n",
    "\n",
    "\n"
   ]
  },
  {
   "cell_type": "code",
   "execution_count": 6,
   "metadata": {},
   "outputs": [],
   "source": []
  },
  {
   "cell_type": "code",
   "execution_count": 14,
   "metadata": {},
   "outputs": [],
   "source": [
    "import os\n",
    "st = os.getcwd()\n",
    "st = st.replace('/models', '')\n",
    "sys.path.append(st)\n",
    "from metrics.power import normalised_power "
   ]
  },
  {
   "cell_type": "code",
   "execution_count": 15,
   "metadata": {},
   "outputs": [],
   "source": []
  },
  {
   "cell_type": "markdown",
   "metadata": {},
   "source": []
  },
  {
   "cell_type": "code",
   "execution_count": 4,
   "metadata": {},
   "outputs": [
    {
     "data": {
      "text/plain": [
       "['/home/ruairi/code/quantcyclist/models',\n",
       " '/home/ruairi/.vscode/extensions/ms-toolsai.jupyter-2022.5.1001601848/pythonFiles',\n",
       " '/home/ruairi/.vscode/extensions/ms-toolsai.jupyter-2022.5.1001601848/pythonFiles/lib/python',\n",
       " '/usr/lib/python38.zip',\n",
       " '/usr/lib/python3.8',\n",
       " '/usr/lib/python3.8/lib-dynload',\n",
       " '',\n",
       " '/home/ruairi/.local/lib/python3.8/site-packages',\n",
       " '/usr/local/lib/python3.8/dist-packages',\n",
       " '/usr/local/lib/python3.8/dist-packages/test_data_generator-1.4-py3.8.egg',\n",
       " '/usr/local/lib/python3.8/dist-packages/xmlschema-1.9.2-py3.8.egg',\n",
       " '/usr/local/lib/python3.8/dist-packages/typer-0.4.0-py3.8.egg',\n",
       " '/usr/local/lib/python3.8/dist-packages/lxml-4.8.0-py3.8-linux-x86_64.egg',\n",
       " '/usr/local/lib/python3.8/dist-packages/Faker-13.2.0-py3.8.egg',\n",
       " '/usr/local/lib/python3.8/dist-packages/exrex-0.10.5-py3.8.egg',\n",
       " '/usr/lib/python3/dist-packages',\n",
       " '/home/ruairi/.local/lib/python3.8/site-packages/IPython/extensions',\n",
       " '/home/ruairi/.ipython']"
      ]
     },
     "execution_count": 4,
     "metadata": {},
     "output_type": "execute_result"
    }
   ],
   "source": [
    "import sys\n"
   ]
  },
  {
   "cell_type": "code",
   "execution_count": null,
   "metadata": {},
   "outputs": [],
   "source": [
    "from models.anaerobic_power_model import AWC, tau, get_wbal_recovery_balance, percentage_awc_remaining"
   ]
  },
  {
   "cell_type": "code",
   "execution_count": 3,
   "metadata": {},
   "outputs": [
    {
     "ename": "ImportError",
     "evalue": "attempted relative import with no known parent package",
     "output_type": "error",
     "traceback": [
      "\u001b[0;31m---------------------------------------------------------------------------\u001b[0m",
      "\u001b[0;31mImportError\u001b[0m                               Traceback (most recent call last)",
      "\u001b[0;32m/tmp/ipykernel_116691/3741864454.py\u001b[0m in \u001b[0;36m<module>\u001b[0;34m\u001b[0m\n\u001b[0;32m----> 1\u001b[0;31m \u001b[0;32mfrom\u001b[0m \u001b[0;34m.\u001b[0m\u001b[0;34m.\u001b[0m \u001b[0;32mimport\u001b[0m \u001b[0mmetrics\u001b[0m\u001b[0;34m\u001b[0m\u001b[0;34m\u001b[0m\u001b[0m\n\u001b[0m\u001b[1;32m      2\u001b[0m \u001b[0;31m# from ..metrics.power import *\u001b[0m\u001b[0;34m\u001b[0m\u001b[0;34m\u001b[0m\u001b[0;34m\u001b[0m\u001b[0m\n",
      "\u001b[0;31mImportError\u001b[0m: attempted relative import with no known parent package"
     ]
    }
   ],
   "source": [
    "from  import metrics\n",
    "# from ..metrics.power import *"
   ]
  },
  {
   "cell_type": "code",
   "execution_count": 32,
   "metadata": {},
   "outputs": [
    {
     "data": {
      "text/plain": [
       "0.03"
      ]
     },
     "execution_count": 32,
     "metadata": {},
     "output_type": "execute_result"
    }
   ],
   "source": [
    "awc = AWC(415, 180)\n",
    "w_exp = tau(411, 180)  # tau, i.e. used\n",
    "percentage_awc_remaining(w_exp, awc)"
   ]
  },
  {
   "cell_type": "markdown",
   "metadata": {},
   "source": [
    "https://scholarexchange.furman.edu/cgi/viewcontent.cgi?article=1002&context=hsc-publications \n",
    "\n",
    "This is the model"
   ]
  },
  {
   "cell_type": "code",
   "execution_count": 33,
   "metadata": {},
   "outputs": [
    {
     "data": {
      "text/plain": [
       "290.0"
      ]
     },
     "execution_count": 33,
     "metadata": {},
     "output_type": "execute_result"
    }
   ],
   "source": [
    "PMAX = 1200\n",
    "CP=290\n",
    "awc = AWC(415, 180)\n",
    "w_exp = tau(415, 180)  # tau, i.e. used\n",
    "recov_dur = 0 # seconds \n",
    "recovery_watts = 120 \n",
    "w_bal = get_wbal_recovery_balance(recov_dur, recovery_watts, awc, w_exp)\n",
    "perc_used =  percentage_awc_remaining(w_bal, awc)\n",
    "anaerobic_cap_remaining_watts(perc_used)"
   ]
  },
  {
   "cell_type": "markdown",
   "metadata": {},
   "source": [
    "algo: \n",
    "\n",
    "aerobic_capacity = PMAX\n",
    "recov_time = 0\n",
    "above_cp_time = 0 \n",
    "\n",
    "for each second\n",
    "if power > CP:\n",
    "    recov_time = 0\n",
    "    above_cp_time += 1\n",
    "    above_cp_power = mean power in current interval (i.e. t - above_cp_time) \n",
    "    awc = AWC(MAX_POWER_ACHIEVED_FOR_ABOVE_CP_TIME, above_cp_time) # GET FROM CP \n",
    "    w_exp = tau(above_cp_power, above_cp_time)\n",
    "    w_bal = percentage_awc_remaining(w_exp, awc)\n",
    "    perc_used =  percentage_awc_remaining(w_bal, awc)\n",
    "    aerobic_capacity = anaerobic_cap_remaining_watts(perc_used)\n",
    "\n",
    "if power < CP:\n",
    "    above_cp_time = 0 \n",
    "    recov_time += 1\n",
    "    recov_watts = mean power in current interval \n",
    "    w_bal = get_wbal_recovery_balance(recov_dur, recovery_watts, awc, w_exp)\n",
    "    perc_used =  percentage_awc_remaining(w_bal, awc)\n",
    "    aerobic_capacity = anaerobic_cap_remaining_watts(perc_used)\n",
    "\n",
    " "
   ]
  },
  {
   "cell_type": "code",
   "execution_count": null,
   "metadata": {},
   "outputs": [],
   "source": [
    "# is recovery or \n",
    "# recov dur needs to be the time elapsed "
   ]
  },
  {
   "cell_type": "code",
   "execution_count": 11,
   "metadata": {},
   "outputs": [],
   "source": []
  },
  {
   "cell_type": "code",
   "execution_count": 13,
   "metadata": {},
   "outputs": [
    {
     "data": {
      "text/plain": [
       "299.1"
      ]
     },
     "execution_count": 13,
     "metadata": {},
     "output_type": "execute_result"
    }
   ],
   "source": []
  },
  {
   "cell_type": "code",
   "execution_count": 103,
   "metadata": {},
   "outputs": [
    {
     "data": {
      "text/plain": [
       "0.52"
      ]
     },
     "execution_count": 103,
     "metadata": {},
     "output_type": "execute_result"
    }
   ],
   "source": [
    "w_bal"
   ]
  }
 ],
 "metadata": {
  "kernelspec": {
   "display_name": "Python 3.8.10 64-bit",
   "language": "python",
   "name": "python3"
  },
  "language_info": {
   "codemirror_mode": {
    "name": "ipython",
    "version": 3
   },
   "file_extension": ".py",
   "mimetype": "text/x-python",
   "name": "python",
   "nbconvert_exporter": "python",
   "pygments_lexer": "ipython3",
   "version": "3.8.10"
  },
  "orig_nbformat": 4,
  "vscode": {
   "interpreter": {
    "hash": "31f2aee4e71d21fbe5cf8b01ff0e069b9275f58929596ceb00d14d90e3e16cd6"
   }
  }
 },
 "nbformat": 4,
 "nbformat_minor": 2
}
